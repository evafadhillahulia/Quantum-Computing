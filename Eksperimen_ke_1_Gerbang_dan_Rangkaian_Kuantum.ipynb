{
 "cells": [
  {
   "cell_type": "markdown",
   "metadata": {},
   "source": [
    "# Materi Praktikum "
   ]
  },
  {
   "cell_type": "markdown",
   "metadata": {},
   "source": [
    "### Pada praktikum ini, kita akan membahas:\n",
    "##### 1. Representasi keadaan qubit tunggal\n",
    "##### 2. Gerbang kuantum qubit tunggal \n",
    "##### 3. Gerbang kuantum qubit ganda\n",
    "##### 4. Daftar sintaks gerbang 1-qubit, 2-qubit, 3-qubit, dan multi-qubit\n",
    "##### Contoh 1: Membangun Rangkaian Kuantum\n",
    "##### Contoh 2: Membangun Rangkaian Kuantum step by step\n",
    "##### Contoh 3: Rangkaian dengan keadaan awal\n",
    "##### Contoh 4: Konsep Superposisi\n",
    "##### Contoh 5: Konsep Entanglement\n",
    "##### Contoh 6: Konsep Interferensi"
   ]
  },
  {
   "cell_type": "markdown",
   "metadata": {},
   "source": [
    "# 1. Representasi Keadaan Qubit tunggal <a name=\"single_states\"/>\n",
    "\n",
    "Keadaan kuantum qubit tunggal dapat ditulis sebagai\n",
    "\n",
    "$$\\left|\\psi\\right\\rangle = \\alpha\\left|0\\right\\rangle + \\beta \\left|1\\right\\rangle$$\n",
    "\n",
    "\n",
    "dimana $\\alpha$ and $\\beta$ adalah bilangan kompleks. Dalam pengukuran kemungkinan bit berada di $\\left|0\\right\\rangle$ adalah $|\\alpha|^2$ dan $\\left|1\\right\\rangle$ adalah $|\\beta|^2$. Sebagai vektor ini adalah\n",
    "\n",
    "$$\n",
    "\\left|\\psi\\right\\rangle =  \n",
    "\\begin{pmatrix}\n",
    "\\alpha \\\\\n",
    "\\beta\n",
    "\\end{pmatrix}.\n",
    "$$\n",
    "\n",
    "Catatan, karena konservasi probabilitas $|\\alpha|^2+ |\\beta|^2 = 1$ dan karena fase global tidak terdeteksi $\\left|\\psi\\right\\rangle := e^{i\\delta} \\left|\\psi\\right\\rangle$ kita hanya memerlukan dua bilangan riil untuk menggambarkan satu keadaan kuantum qubit.\n",
    "\n",
    "Representasi yang nyaman adalah\n",
    "\n",
    "$$\\left|\\psi\\right\\rangle = \\cos(\\theta/2)\\left|0\\right\\rangle + \\sin(\\theta/2)e^{i\\phi}\\left|1\\right\\rangle$$\n",
    "\n",
    "dimana $0\\leq \\phi < 2\\pi$, and $0\\leq \\theta \\leq \\pi$.  Dari sini terlihat jelas bahwa terdapat korespondensi satu-satu antara status qubit. ($\\mathbb{C}^2$) dan titik-titik pada permukaan bola satuan ($\\mathbb{S}^2$). Ini disebut representasi bola Bloch dari keadaan qubit.\n",
    "\n",
    "Gerbang/operasi kuantum biasanya direpresentasikan sebagai matriks. Gerbang yang bekerja pada qubit direpresentasikan oleh $2\\times 2$ unitary matrix $U$. Tindakan gerbang kuantum ditemukan dengan mengalikan matriks yang mewakili gerbang dengan vektor yang mewakili keadaan kuantum.\n",
    "\n",
    "$$\\left|\\psi'\\right\\rangle = U\\left|\\psi\\right\\rangle$$\n",
    "\n",
    "Sebuah kesatuan umum harus mampu mengambil $\\left|0\\right\\rangle$ ke keadaan di atas. Itu adalah \n",
    "\n",
    "$$\n",
    "U = \\begin{pmatrix}\n",
    "\\cos(\\theta/2) & a \\\\\n",
    "e^{i\\phi}\\sin(\\theta/2) & b \n",
    "\\end{pmatrix}\n",
    "$$ \n",
    "\n",
    "dimana $a$ dan $b$ adalah bilangan kompleks yang dibatasi sedemikian rupa sehingga $U^\\dagger U = I$ untuk semua $0\\leq\\theta\\leq\\pi$ dan $0\\leq \\phi<2\\pi$. Hal ini memberikan 3 kendala dan dengan demikian $a\\rightarrow -e^{i\\lambda}\\sin(\\theta/2)$ dan $b\\rightarrow e^{i\\lambda+i\\phi}\\cos(\\theta/2)$ dimana $0\\leq \\lambda<2\\pi$ memberi \n",
    "\n",
    "$$\n",
    "U(\\theta, \\phi, \\lambda) =\n",
    "    \\begin{pmatrix}\n",
    "        \\cos\\left(\\frac{\\theta}{2}\\right)          & -e^{i\\lambda}\\sin\\left(\\frac{\\theta}{2}\\right) \\\\\n",
    "        e^{i\\phi}\\sin\\left(\\frac{\\theta}{2}\\right) & e^{i(\\phi+\\lambda)}\\cos\\left(\\frac{\\theta}{2}\\right)\n",
    "    \\end{pmatrix}\n",
    "$$\n",
    "\n",
    "Ini merupakan bentuk paling umum dari qubit tunggal unitary."
   ]
  },
  {
   "cell_type": "markdown",
   "metadata": {},
   "source": [
    "# 2. Gerbang kuantum Qubit Tunggal <a name=\"single_gates\"/>\n",
    "\n",
    "Gerbang qubit tunggal yang tersedia adalah:\n",
    "- Gerbang U\n",
    "- Gerbang P\n",
    "- Gerbang identitas\n",
    "- Gerbang Pauli (X, Y, dan Z)\n",
    "- Gerbang Clifford\n",
    "- Gerbang $C3$\n",
    "- Gerbang rotasi standar\n",
    "\n",
    "Kami telah menyediakan backend: `unitary_simulator` untuk memungkinkan Anda menghitung matriks unitary."
   ]
  },
  {
   "cell_type": "code",
   "execution_count": 2,
   "metadata": {
    "ExecuteTime": {
     "end_time": "2021-07-31T05:10:06.399483Z",
     "start_time": "2021-07-31T05:10:06.113598Z"
    }
   },
   "outputs": [],
   "source": [
    "from qiskit import QuantumCircuit, ClassicalRegister, QuantumRegister, transpile\n",
    "from qiskit_aer import AerSimulator\n",
    "from qiskit.quantum_info import Statevector\n",
    "from qiskit.visualization import array_to_latex\n",
    "from qiskit.visualization import plot_histogram, plot_bloch_multivector\n",
    "import matplotlib.pyplot as plt\n",
    "import numpy as np\n",
    "from math import pi\n",
    "import math"
   ]
  },
  {
   "cell_type": "markdown",
   "metadata": {},
   "source": [
    "### Gerbang U \n",
    "\n",
    "Di Qiskit kami memberi Anda akses ke kesatuan umum menggunakan gerbang $u$, yang memiliki bentuk matriks berikut\n",
    "$$\n",
    "U(\\theta, \\phi, \\lambda) =\n",
    "    \\begin{pmatrix}\n",
    "        \\cos\\left(\\frac{\\theta}{2}\\right)          & -e^{i\\lambda}\\sin\\left(\\frac{\\theta}{2}\\right) \\\\\n",
    "        e^{i\\phi}\\sin\\left(\\frac{\\theta}{2}\\right) & e^{i(\\phi+\\lambda)}\\cos\\left(\\frac{\\theta}{2}\\right)\n",
    "    \\end{pmatrix}\n",
    "$$\n"
   ]
  },
  {
   "cell_type": "code",
   "execution_count": null,
   "metadata": {
    "ExecuteTime": {
     "end_time": "2021-07-31T05:10:09.406278Z",
     "start_time": "2021-07-31T05:10:09.398661Z"
    }
   },
   "outputs": [],
   "source": [
    "qc = QuantumCircuit(1)  # buat rangkaian kuantum 1-qubit\n",
    "qc.u(pi/2,pi/4,pi/8,0)  # q0 diputar dengan sudut θ= pi/2, ϕ=pi/4,  dan  λ=pi/8\n",
    "qc.draw('mpl')"
   ]
  },
  {
   "cell_type": "markdown",
   "metadata": {},
   "source": [
    "### Gerbang P \n",
    "\n",
    "Gerbang $p(\\lambda)= u(0, 0, \\lambda)$ mempunyai bentuk matrik \n",
    "\n",
    "$$\n",
    "p(\\lambda) = \n",
    "\\begin{pmatrix}\n",
    "1 & 0 \\\\\n",
    "0 & e^{i \\lambda}\n",
    "\\end{pmatrix},\n",
    "$$\n",
    "\n",
    "yang berguna karena memungkinkan kita menerapkan fase kuantum."
   ]
  },
  {
   "cell_type": "code",
   "execution_count": null,
   "metadata": {
    "ExecuteTime": {
     "end_time": "2021-07-31T05:10:51.997454Z",
     "start_time": "2021-07-31T05:10:51.992620Z"
    }
   },
   "outputs": [],
   "source": [
    "qc = QuantumCircuit(1)\n",
    "qc.p(pi/2,0)           # q0 diputar terhadap sumbu-z sebesar pi/2\n",
    "qc.draw('mpl')"
   ]
  },
  {
   "cell_type": "markdown",
   "metadata": {},
   "source": [
    "### Gerbang Identitas \n",
    "\n",
    "Gerbang identitas adalah $Id = p(0)$."
   ]
  },
  {
   "cell_type": "code",
   "execution_count": null,
   "metadata": {
    "ExecuteTime": {
     "end_time": "2021-07-31T05:11:00.799001Z",
     "start_time": "2021-07-31T05:11:00.794172Z"
    }
   },
   "outputs": [],
   "source": [
    "qc = QuantumCircuit(1)\n",
    "qc.id(0)                # gerbang identitas diterapkan pada q0 \n",
    "qc.draw('mpl')"
   ]
  },
  {
   "cell_type": "markdown",
   "metadata": {},
   "source": [
    "### Gerbang Pauli\n",
    "\n",
    "#### $X$: Gerbang Not (bit-flip) \n",
    "\n",
    "Gerbang bit-flip $X$ didefinisikan sebagai:\n",
    "$$\n",
    "X   =  \n",
    "\\begin{pmatrix}\n",
    "0 & 1\\\\\n",
    "1 & 0\n",
    "\\end{pmatrix}= u(\\pi,0,\\pi)\n",
    "$$"
   ]
  },
  {
   "cell_type": "code",
   "execution_count": null,
   "metadata": {
    "ExecuteTime": {
     "end_time": "2021-07-31T05:11:05.287138Z",
     "start_time": "2021-07-31T05:11:05.281859Z"
    }
   },
   "outputs": [],
   "source": [
    "qc = QuantumCircuit(1)\n",
    "qc.x(0)                  # gerbang X diterapkan pada q0\n",
    "qc.draw('mpl')"
   ]
  },
  {
   "cell_type": "markdown",
   "metadata": {},
   "source": [
    "#### Gerbang bit dan fase-flip $Y$ \n",
    "\n",
    "Gerbang $Y$ didefinisikan sebagai:\n",
    "\n",
    "$$\n",
    "Y  = \n",
    "\\begin{pmatrix}\n",
    "0 & -i\\\\\n",
    "i & 0\n",
    "\\end{pmatrix}=u(\\pi,\\pi/2,\\pi/2)\n",
    "$$"
   ]
  },
  {
   "cell_type": "code",
   "execution_count": null,
   "metadata": {
    "ExecuteTime": {
     "end_time": "2021-07-31T05:11:09.274252Z",
     "start_time": "2021-07-31T05:11:09.270141Z"
    }
   },
   "outputs": [],
   "source": [
    "qc = QuantumCircuit(1)\n",
    "qc.y(0)                 # gerbang Y diterapkan pada q0\n",
    "qc.draw('mpl')"
   ]
  },
  {
   "cell_type": "markdown",
   "metadata": {},
   "source": [
    "#### Gerbang pembalik fase $Z$\n",
    "\n",
    "Gerbang pembalikan fase $Z$ didefinisikan sebagai:\n",
    "\n",
    "$$\n",
    "Z = \n",
    "\\begin{pmatrix}\n",
    "1 & 0\\\\\n",
    "0 & -1\n",
    "\\end{pmatrix}=p(\\pi)\n",
    "$$"
   ]
  },
  {
   "cell_type": "code",
   "execution_count": null,
   "metadata": {
    "ExecuteTime": {
     "end_time": "2021-07-31T05:11:13.903719Z",
     "start_time": "2021-07-31T05:11:13.898408Z"
    }
   },
   "outputs": [],
   "source": [
    "qc = QuantumCircuit(1)\n",
    "qc.z(0)                # gerbang Z diterapkan pada q0\n",
    "qc.draw('mpl')"
   ]
  },
  {
   "cell_type": "markdown",
   "metadata": {},
   "source": [
    "#### Gerbang Hadamard\n",
    "\n",
    "$$\n",
    "H = \n",
    "\\frac{1}{\\sqrt{2}}\n",
    "\\begin{pmatrix}\n",
    "1 & 1\\\\\n",
    "1 & -1\n",
    "\\end{pmatrix}= u(\\pi/2,0,\\pi)\n",
    "$$"
   ]
  },
  {
   "cell_type": "code",
   "execution_count": null,
   "metadata": {},
   "outputs": [],
   "source": [
    "qc = QuantumCircuit(1)\n",
    "qc.h(0)                  # gerbang H diterapkan pada q0\n",
    "qc.draw('mpl')"
   ]
  },
  {
   "cell_type": "markdown",
   "metadata": {},
   "source": [
    "#### Gerbang $S$ (atau, fase $\\sqrt{Z}$ ) \n",
    "\n",
    "$$\n",
    "S = \n",
    "\\begin{pmatrix}\n",
    "1 & 0\\\\\n",
    "0 & i\n",
    "\\end{pmatrix}= p(\\pi/2)\n",
    "$$"
   ]
  },
  {
   "cell_type": "code",
   "execution_count": null,
   "metadata": {
    "ExecuteTime": {
     "end_time": "2021-07-31T05:11:27.577029Z",
     "start_time": "2021-07-31T05:11:27.572229Z"
    }
   },
   "outputs": [],
   "source": [
    "qc = QuantumCircuit(1)\n",
    "qc.s(0)                # gerbang S diterapkan pada q0\n",
    "qc.draw('mpl')"
   ]
  },
  {
   "cell_type": "markdown",
   "metadata": {},
   "source": [
    "#### Gerbang $S^{\\dagger}$ (atau, konjugat dari fase $\\sqrt{Z}$) \n",
    "\n",
    "$$\n",
    "S^{\\dagger} = \n",
    "\\begin{pmatrix}\n",
    "1 & 0\\\\\n",
    "0 & -i\n",
    "\\end{pmatrix}= p(-\\pi/2)\n",
    "$$\n"
   ]
  },
  {
   "cell_type": "code",
   "execution_count": null,
   "metadata": {
    "ExecuteTime": {
     "end_time": "2021-07-31T05:11:31.674786Z",
     "start_time": "2021-07-31T05:11:31.669677Z"
    }
   },
   "outputs": [],
   "source": [
    "qc = QuantumCircuit(1)\n",
    "qc.sdg(0)              # gerbang konyugat S diterapkan pada q0\n",
    "qc.draw('mpl')"
   ]
  },
  {
   "cell_type": "markdown",
   "metadata": {},
   "source": [
    "#### Gerbang $T$ (atau, fase $\\sqrt{S}$ )\n",
    "\n",
    "$$\n",
    "T = \n",
    "\\begin{pmatrix}\n",
    "1 & 0\\\\\n",
    "0 & e^{i \\pi/4}\n",
    "\\end{pmatrix}= p(\\pi/4) \n",
    "$$"
   ]
  },
  {
   "cell_type": "code",
   "execution_count": null,
   "metadata": {
    "ExecuteTime": {
     "end_time": "2021-07-31T05:11:35.573569Z",
     "start_time": "2021-07-31T05:11:35.568858Z"
    }
   },
   "outputs": [],
   "source": [
    "qc = QuantumCircuit(1)\n",
    "qc.t(0)                   #gerbang T diterapkan pada q0\n",
    "qc.draw('mpl')"
   ]
  },
  {
   "cell_type": "markdown",
   "metadata": {},
   "source": [
    "#### Gerbang $T^{\\dagger}$ (atau,konjugat dari fase $\\sqrt{S}$) \n",
    "\n",
    "$$\n",
    "T^{\\dagger} =  \n",
    "\\begin{pmatrix}\n",
    "1 & 0\\\\\n",
    "0 & e^{-i \\pi/4}\n",
    "\\end{pmatrix}= p(-\\pi/4)\n",
    "$$"
   ]
  },
  {
   "cell_type": "code",
   "execution_count": null,
   "metadata": {
    "ExecuteTime": {
     "end_time": "2021-07-31T05:11:39.747528Z",
     "start_time": "2021-07-31T05:11:39.742799Z"
    }
   },
   "outputs": [],
   "source": [
    "qc = QuantumCircuit(1)\n",
    "qc.tdg(0)                 # gerbang konyugat T diterapkan pada q0\n",
    "qc.draw('mpl')"
   ]
  },
  {
   "cell_type": "markdown",
   "metadata": {},
   "source": [
    "### Rotasi Standar\n",
    "\n",
    "Gerbang rotasi standar adalah gerbang yang mendefinisikan rotasi di sekitar Paulis $P=\\{X,Y,Z\\}$. Gerbang ini didefinisikan sebagai\n",
    "\n",
    "$$ R_P(\\theta) = \\exp(-i \\theta P/2) = \\cos(\\theta/2)I -i \\sin(\\theta/2)P$$\n",
    "\n",
    "#### Rotasi di sekitar sumbu X\n",
    "\n",
    "$$\n",
    "R_x(\\theta) =\n",
    "\\begin{pmatrix}\n",
    "\\cos(\\theta/2) & -i\\sin(\\theta/2)\\\\\n",
    "-i\\sin(\\theta/2) & \\cos(\\theta/2)\n",
    "\\end{pmatrix} = u(\\theta, -\\pi/2,\\pi/2)\n",
    "$$"
   ]
  },
  {
   "cell_type": "code",
   "execution_count": null,
   "metadata": {
    "ExecuteTime": {
     "end_time": "2021-07-31T05:11:43.968605Z",
     "start_time": "2021-07-31T05:11:43.963670Z"
    }
   },
   "outputs": [],
   "source": [
    "qc = QuantumCircuit(1)\n",
    "qc.rx(pi/2,0)            # q0 diputar dengan sudut pi/2 terhadap sumbu-X\n",
    "qc.draw('mpl')"
   ]
  },
  {
   "cell_type": "markdown",
   "metadata": {},
   "source": [
    "#### Rotasi di sekitar sumbu Y\n",
    "\n",
    "$$\n",
    "R_y(\\theta) =\n",
    "\\begin{pmatrix}\n",
    "\\cos(\\theta/2) & - \\sin(\\theta/2)\\\\\n",
    "\\sin(\\theta/2) & \\cos(\\theta/2).\n",
    "\\end{pmatrix} =u(\\theta,0,0)\n",
    "$$"
   ]
  },
  {
   "cell_type": "code",
   "execution_count": null,
   "metadata": {
    "ExecuteTime": {
     "end_time": "2021-07-31T05:11:48.483090Z",
     "start_time": "2021-07-31T05:11:48.477062Z"
    }
   },
   "outputs": [],
   "source": [
    "qc = QuantumCircuit(1)\n",
    "qc.ry(pi/2,0)             # q0 diputar dengan sudut pi/2 terhadap sumbu-Y\n",
    "qc.draw('mpl')"
   ]
  },
  {
   "cell_type": "markdown",
   "metadata": {},
   "source": [
    "#### Rotasi di sekitar sumbu Z\n",
    "\n",
    "$$\n",
    "R_z(\\phi) =\n",
    "\\begin{pmatrix}\n",
    "e^{-i \\phi/2} & 0 \\\\\n",
    "0 & e^{i \\phi/2}\n",
    "\\end{pmatrix}\\equiv p(\\phi)\n",
    "$$\n",
    "\n",
    "Perhatikan bahwa di sini kita telah menggunakan padanan karena berbeda dengan $p$ oleh fase global $e^{-i \\phi/2}$."
   ]
  },
  {
   "cell_type": "code",
   "execution_count": null,
   "metadata": {
    "ExecuteTime": {
     "end_time": "2021-07-31T05:11:51.729618Z",
     "start_time": "2021-07-31T05:11:51.724574Z"
    }
   },
   "outputs": [],
   "source": [
    "qc = QuantumCircuit(1)\n",
    "qc.rz(pi/2,0)            # q0 diputar dengan sudut pi/2 terhadap sumbu-Z\n",
    "qc.draw('mpl')"
   ]
  },
  {
   "cell_type": "markdown",
   "metadata": {},
   "source": [
    "Perhatikan bahwa ini berbeda karena hanya fase global."
   ]
  },
  {
   "cell_type": "markdown",
   "metadata": {},
   "source": [
    "# 3. Gerbang kuantum qubit Ganda <a name=\"multi_gates\"/>\n",
    "\n",
    "#### Pendahuluan Matematika\n",
    "\n",
    "Ruang komputer kuantum tumbuh secara eksponensial dengan jumlah qubit. Untuk $n$ qubit, ruang vektor kompleks memiliki dimensi $d=2^n$. Untuk menggambarkan status sistem multi-qubit, produk tensor digunakan untuk \"menyatukan\" operator dan vektor basis.\n",
    "\n",
    "Mari kita mulai dengan mempertimbangkan sistem 2-qubit. Diberikan dua operator $A$ dan $B$ yang masing-masing bekerja pada satu qubit, operator gabungan $A \\otimes B$ yang bekerja pada dua qubit adalah\n",
    "\n",
    "$$\\begin{equation}\n",
    "A\\otimes B =\n",
    "\\begin{pmatrix}\n",
    "A_{00} \\begin{pmatrix}\n",
    "B_{00} & B_{01} \\\\\n",
    "B_{10} & B_{11}\n",
    "\\end{pmatrix} & A_{01} \\begin{pmatrix}\n",
    "B_{00} & B_{01} \\\\\n",
    "B_{10} & B_{11}\n",
    "\\end{pmatrix} \\\\\n",
    "A_{10} \\begin{pmatrix}\n",
    "B_{00} & B_{01} \\\\\n",
    "B_{10} & B_{11}\n",
    "\\end{pmatrix} & A_{11} \\begin{pmatrix}\n",
    "B_{00} & B_{01} \\\\\n",
    "B_{10} & B_{11}\n",
    "\\end{pmatrix}\n",
    "\\end{pmatrix},\n",
    "\\end{equation}$$\n",
    "\n",
    "di mana $A_{jk}$ dan $B_{lm}$ masing-masing adalah elemen matriks $A$ dan $B$.\n",
    "\n",
    "Secara analog, vektor basis untuk sistem 2-qubit dibentuk menggunakan produk tensor vektor basis untuk satu qubit:\n",
    "$$\\begin{equation}\\begin{split}\n",
    "\t\\left|{00}\\right\\rangle &= \\begin{pmatrix} \n",
    "\t\t1 \\begin{pmatrix} \n",
    "\t\t\t1  \\\\\n",
    "\t\t\t0\n",
    "\t\t\\end{pmatrix} \\\\\n",
    "\t\t0 \\begin{pmatrix} \n",
    "\t\t\t1  \\\\\n",
    "\t\t\t0 \n",
    "\t\t\\end{pmatrix}\n",
    "\t\\end{pmatrix} = \\begin{pmatrix} 1 \\\\ 0 \\\\ 0 \\\\0 \\end{pmatrix}~~~\\left|{01}\\right\\rangle = \\begin{pmatrix} \n",
    "\t1 \\begin{pmatrix} \n",
    "\t0 \\\\\n",
    "\t1\n",
    "\t\\end{pmatrix} \\\\\n",
    "\t0 \\begin{pmatrix} \n",
    "\t0  \\\\\n",
    "\t1 \n",
    "\t\\end{pmatrix}\n",
    "\t\\end{pmatrix} = \\begin{pmatrix}0 \\\\ 1 \\\\ 0 \\\\ 0 \\end{pmatrix}\\end{split}\n",
    "\\end{equation}$$\n",
    "    \n",
    "$$\\begin{equation}\\begin{split}\\left|{10}\\right\\rangle = \\begin{pmatrix} \n",
    "\t0\\begin{pmatrix} \n",
    "\t1  \\\\\n",
    "\t0\n",
    "\t\\end{pmatrix} \\\\\n",
    "\t1\\begin{pmatrix} \n",
    "\t1 \\\\\n",
    "\t0 \n",
    "\t\\end{pmatrix}\n",
    "\t\\end{pmatrix} = \\begin{pmatrix} 0 \\\\ 0 \\\\ 1 \\\\ 0 \\end{pmatrix}~~~ \t\\left|{11}\\right\\rangle = \\begin{pmatrix} \n",
    "\t0 \\begin{pmatrix} \n",
    "\t0  \\\\\n",
    "\t1\n",
    "\t\\end{pmatrix} \\\\\n",
    "\t1\\begin{pmatrix} \n",
    "\t0  \\\\\n",
    "\t1 \n",
    "\t\\end{pmatrix}\n",
    "\t\\end{pmatrix} = \\begin{pmatrix} 0 \\\\ 0 \\\\ 0 \\\\1 \\end{pmatrix}\\end{split}\n",
    "\\end{equation}.$$\n",
    "\n",
    "Perhatikan bahwa kami telah memperkenalkan singkatan untuk produk tensor vektor basis, di mana $\\left|0\\right\\rangle \\otimes \\left|0\\right\\rangle$ ditulis sebagai $\\left|00\\right\\rangle$. Keadaan sistem $n$-qubit dapat dijelaskan menggunakan produk tensor $n$-lipat dari vektor basis qubit tunggal. Perhatikan bahwa vektor basis untuk sistem 2-qubit adalah 4-dimensi; secara umum, vektor basis sistem $n$-qubit adalah $2^{n}$-dimensi, seperti yang disebutkan sebelumnya.\n",
    "\n",
    "### Pengurutan vektor basis di Qiskit\n",
    "\n",
    "Dalam komunitas fisika, qubit dari sistem multi-qubit biasanya diurutkan dengan qubit pertama di sisi paling kiri dari produk tensor dan qubit terakhir di sisi paling kanan. Misalnya, jika qubit pertama dalam keadaan $\\left|0\\right\\rangle$ dan yang kedua dalam keadaan $\\left|1\\right\\rangle$, keadaan gabungan mereka akan menjadi $\\left|01\\right\\rangle$. Qiskit menggunakan urutan qubit yang sedikit berbeda, di mana qubit direpresentasikan dari bit paling signifikan (MSB) di sebelah kiri hingga bit paling tidak signifikan (LSB) di sebelah kanan (little-endian). Ini mirip dengan representasi bitstring pada komputer klasik, dan memungkinkan konversi mudah dari bitstring ke bilangan bulat setelah pengukuran dilakukan. Untuk contoh yang baru saja diberikan, status gabungan akan direpresentasikan sebagai $\\left|10\\right\\rangle$. Yang penting, *perubahan dalam representasi status multi-qubit ini memengaruhi cara gerbang multi-qubit direpresentasikan dalam Qiskit*, seperti yang dibahas di bawah ini.\n",
    "\n",
    "Representasi yang digunakan dalam Qiskit menghitung vektor basis dalam urutan bilangan bulat yang direpresentasikannya. Misalnya, vektor basis untuk sistem 2-qubit akan diurutkan sebagai $\\left|00\\right\\rangle$, $\\left|01\\right\\rangle$, $\\left|10\\right\\rangle$, dan $\\left|11\\right\\rangle$. Dengan menganggap vektor basis sebagai string bit, mereka mengodekan bilangan bulat 0,1,2 dan 3, secara berurutan.\n",
    "\n",
    "### Operasi terkendali pada qubit\n",
    "\n",
    "Gerbang multi-qubit umum melibatkan penerapan gerbang pada satu qubit, yang dikondisikan pada status qubit lain. Misalnya, kita mungkin ingin membalik status qubit kedua saat qubit pertama berada di $\\left|0\\right\\rangle$. Gerbang semacam itu dikenal sebagai _gerbang terkendali_. Gerbang multi-qubit standar terdiri dari gerbang dua-qubit dan gerbang tiga-qubit. \n",
    "\n",
    "### Gerbang dua-qubit \n",
    "- gerbang Pauli terkendali\n",
    "- gerbang Hadamard terkendali\n",
    "- gerbang rotasi terkendali\n",
    "- gerbang fase terkendali\n",
    "- gerbang u3 terkendali\n",
    "- gerbang swap\n",
    "\n",
    "### Gerbang tiga-qubit\n",
    "- gerbang Toffoli\n",
    "- gerbang Fredkin"
   ]
  },
  {
   "cell_type": "markdown",
   "metadata": {},
   "source": [
    "## Gerbang dua-qubit <a name=\"two_gates\"/>\n",
    "\n",
    "Sebagian besar gerbang dua-qubit bertipe terkendali (kecuali gerbang SWAP). Secara umum, gerbang dua-qubit terkendali $C_{U}$ bertindak untuk menerapkan kesatuan satu-qubit $U$ ke qubit kedua saat status qubit pertama berada di $\\left|1\\right\\rangle$. Misalkan $U$ memiliki representasi matriks\n",
    "\n",
    "$$U = \\begin{pmatrix} u_{00} & u_{01} \\\\ u_{10} & u_{11}\\end{pmatrix}.$$\n",
    "\n",
    "Kita dapat menghitung aksi $C_{U}$ sebagai berikut. Ingat bahwa vektor basis untuk sistem dua qubit diurutkan sebagai $\\left|00\\right\\rangle, \\left|01\\right\\rangle, \\left|10\\right\\rangle, \\left|11\\right\\rangle$. Misalkan **qubit kontrol** adalah **qubit 0** (yang, menurut konvensi Qiskit, adalah salah satu sisi _kanan_ dari produk tensor). Jika qubit kontrol berada di $\\left|1\\right\\rangle$, $U$ harus diterapkan ke **target** (qubit 1, di sisi _kiri_ dari produk tensor). Oleh karena itu, di bawah aksi $C_{U}$, vektor basis ditransformasikan menurut\n",
    "\n",
    "$$\\begin{align*}\n",
    "C_{U}: \\underset{\\text{qubit}~1}{\\left|0\\right\\rangle}\\otimes \\underset{\\text{qubit}~0}{\\left|0\\right\\rangle} &\\rightarrow \\underset{\\text{qubit}~1}{\\left|0\\right\\rangle}\\otimes \\underset{\\text{qubit}~0}{\\left|0\\right\\rangle}\\\\\n",
    "C_{U}: \\underset{\\text{qubit}~1}{\\left|0\\right\\rangle}\\otimes \\underset{\\text{qubit}~0}{\\left|1\\right\\rangle} &\\rightarrow \\underset{\\text{qubit}~1}{U\\left|0\\right\\rangle}\\otimes \\underset{\\text{qubit}~0}{\\left|1\\right\\rangle}\\\\\n",
    "C_{U}: \\underset{\\text{qubit}~1}{\\left|1\\right\\rangle}\\otimes \\underset{\\text{qubit}~0}{\\left|0\\right\\rangle} &\\rightarrow \\underset{\\text{qubit}~1}{\\left|1\\right\\rangle}\\otimes \\underset{\\text{qubit}~0}{\\left|0\\right\\rangle}\\\\\n",
    "C_{U}: \\underset{\\text{qubit}~1}{\\left|1\\right\\rangle}\\otimes \\underset{\\text{qubit}~0}{\\left|1\\right\\rangle} &\\rightarrow \\underset{\\text{qubit}~1}{U\\left|1\\right\\rangle}\\otimes \\underset{\\text{qubit}~0}{\\left|1\\right\\rangle}\\\\\n",
    "\\end{align*}.$$\n",
    "\n",
    "Dalam bentuk matriks, aksi $C_{U}$ adalah\n",
    "\n",
    "$$\\begin{equation}\n",
    "C_U = \\begin{pmatrix}\n",
    "1 & 0 & 0 & 0 \\\\\n",
    "0 & u_{00} & 0 & u_{01} \\\\\n",
    "0 & 0 & 1 & 0 \\\\\n",
    "0 & u_{10} &0 & u_{11}\n",
    "\\end{pmatrix}. \\end{equation}$$\n",
    "\n",
    "Untuk mengerjakan elemen-elemen matriks ini, misalkan\n",
    "\n",
    "$$C_{(jk), (lm)} = \\left(\\underset{\\text{qubit}~1}{\\left\\langle j \\right|} \\otimes \\underset{\\text{qubit}~0}{\\left\\langle k \\right|}\\right) C_{U} \\left(\\underset{\\text{qubit}~1}{\\left| l \\right\\rangle} \\otimes \\underset{\\text{qubit}~0}{\\left| m \\right\\rangle}\\right),$$\n",
    "\n",
    "hitung aksi $C_{U}$ (diberikan di atas), dan hitung produk dalam.\n",
    "\n",
    "Seperti yang ditunjukkan pada contoh di bawah, operasi ini diimplementasikan dalam Qiskit sebagai `cU(q[0],q[1])`.\n",
    "\n",
    "Jika **qubit 1 adalah kontrol dan qubit 0 adalah target**, maka vektor basis ditransformasikan menurut\n",
    "$$\\begin{align*}\n",
    "C_{U}: \\underset{\\text{qubit}~1}{\\left|0\\right\\rangle}\\otimes \\underset{\\text{qubit}~0}{\\left|0\\right\\rangle} &\\rightarrow \\underset{\\text{qubit}~1}{\\left|0\\right\\rangle}\\otimes \\underset{\\text{qubit}~0}{\\left|0\\right\\rangle}\\\\\n",
    "C_{U}: \\underset{\\text{qubit}~1}{\\left|0\\right\\rangle}\\otimes \\underset{\\text{qubit}~0}{\\left|1\\right\\rangle} &\\rightarrow \\underset{\\text{qubit}~1}{\\left|0\\right\\rangle}\\otimes \\underset{\\text{qubit}~0}{\\left|1\\right\\rangle}\\\\\n",
    "C_{U}: \\underset{\\text{qubit}~1}{\\left|1\\right\\rangle}\\otimes \\underset{\\text{qubit}~0}{\\left|0\\right\\rangle} &\\rightarrow \\underset{\\text{qubit}~1}{\\left|1\\right\\rangle}\\otimes \\underset{\\text{qubit}~0}{U\\left|0\\right\\rangle}\\\\\n",
    "C_{U}: \\underset{\\text{qubit}~1}{\\left|1\\right\\rangle}\\otimes \\underset{\\text{qubit}~0}{\\left|1\\right\\rangle} &\\rightarrow \\underset{\\text{qubit}~1}{\\left|1\\right\\rangle}\\otimes \\underset{\\text{qubit}~0}{U\\left|1\\right\\rangle}\\\\\n",
    "\\end{align*},$$\n",
    "\n",
    "\n",
    "yang menyiratkan bentuk matriks $C_{U}$ adalah\n",
    "$$\\begin{equation}\n",
    "C_U = \\begin{pmatrix}\n",
    "1 & 0 & 0 & 0 \\\\\n",
    "0 & 1 & 0 & 0 \\\\\n",
    "0 & 0 & u_{00} & u_{01} \\\\\n",
    "0 & 0 & u_{10} & u_{11}\n",
    "\\end{pmatrix}.\n",
    "\\end{equation}$$"
   ]
  },
  {
   "cell_type": "markdown",
   "metadata": {},
   "source": [
    "### Gerbang Pauli Terkendali\n",
    "\n",
    "#### Gerbang Controlled-X (atau, Controlled-NOT)\n",
    "Gerbang Controlled-NOT membalik qubit `target` saat qubit kontrol berada dalam status $\\left|1\\right\\rangle$. Jika kita mengambil MSB sebagai qubit kontrol (misalnya `cx(q[1],q[0])`), maka matriksnya akan terlihat seperti\n",
    "\n",
    "$$\n",
    "C_X =\n",
    "\\begin{pmatrix}\n",
    "1 & 0 & 0 & 0\\\\\n",
    "0 & 1 & 0 & 0\\\\\n",
    "0 & 0 & 0 & 1\\\\\n",
    "0 & 0 & 1 & 0\n",
    "\\end{pmatrix}. $$\n",
    "\n",
    "Namun, ketika LSB adalah qubit kontrol, (misalnya `cx(q[0],q[1])`), gerbang ini setara dengan matriks berikut:\n",
    "\n",
    "$$\n",
    "C_X =\n",
    "\\begin{pmatrix}\n",
    "1 & 0 & 0 & 0\\\\\n",
    "0 & 0 & 0 & 1\\\\\n",
    "0 & 0 & 1 & 0\\\\\n",
    "0 & 1 & 0 & 0\n",
    "\\end{pmatrix}.\n",
    "$$"
   ]
  },
  {
   "cell_type": "code",
   "execution_count": null,
   "metadata": {
    "ExecuteTime": {
     "end_time": "2021-07-31T05:11:59.251955Z",
     "start_time": "2021-07-31T05:11:59.245837Z"
    }
   },
   "outputs": [],
   "source": [
    "qc = QuantumCircuit(2)         # buat rangkaian denagn 2 qubit\n",
    "qc.cx(0,1)                     # Gerbang CX diterapkan, q0 = kontrol, q1 = target\n",
    "qc.draw('mpl')                 # catatan: qc.cx(1,0), artinya q1 = kontrol, q0 = target"
   ]
  },
  {
   "cell_type": "markdown",
   "metadata": {},
   "source": [
    "#### Gerbang $Y$ yang dikendalikan\n",
    "\n",
    "Terapkan gerbang $Y$ ke qubit target jika qubit kontrol adalah MSB\n",
    "\n",
    "$$\n",
    "C_Y =\n",
    "\\begin{pmatrix}\n",
    "1 & 0 & 0 & 0\\\\\n",
    "0 & 1 & 0 & 0\\\\\n",
    "0 & 0 & 0 & -i\\\\\n",
    "0 & 0 & i & 0\n",
    "\\end{pmatrix},\n",
    "$$\n",
    "\n",
    "atau ketika LSB adalah kontrol\n",
    "\n",
    "$$\n",
    "C_Y =\n",
    "\\begin{pmatrix}\n",
    "1 & 0 & 0 & 0\\\\\n",
    "0 & 0 & 0 & -i\\\\\n",
    "0 & 0 & 1 & 0\\\\\n",
    "0 & i & 0 & 0\n",
    "\\end{pmatrix}.\n",
    "$$"
   ]
  },
  {
   "cell_type": "code",
   "execution_count": null,
   "metadata": {
    "ExecuteTime": {
     "end_time": "2021-07-31T05:12:04.293988Z",
     "start_time": "2021-07-31T05:12:04.285941Z"
    }
   },
   "outputs": [],
   "source": [
    "qc = QuantumCircuit(2)\n",
    "qc.cy(0,1)         # Gerbang CY diterapkan, q0 = kontrol, q1 = target\n",
    "qc.draw('mpl')"
   ]
  },
  {
   "cell_type": "markdown",
   "metadata": {},
   "source": [
    "#### Gerbang $Z$ terkendali (atau, Pembalikan Fase terkendali)\n",
    "\n",
    "Demikian pula, gerbang Z terkendali membalik fase qubit target jika qubit kendali adalah $\\left|1\\right\\rangle$. Matriksnya tampak sama terlepas dari apakah MSB atau LSB adalah qubit kendali:\n",
    "$$\n",
    "C_Z = \n",
    "\\begin{pmatrix}\n",
    "1 & 0 & 0 & 0\\\\\n",
    "0 & 1 & 0 & 0\\\\\n",
    "0 & 0 & 1 & 0\\\\\n",
    "0 & 0 & 0 & -1\n",
    "\\end{pmatrix}\n",
    "$$\n"
   ]
  },
  {
   "cell_type": "code",
   "execution_count": null,
   "metadata": {
    "ExecuteTime": {
     "end_time": "2021-07-31T05:12:08.397786Z",
     "start_time": "2021-07-31T05:12:08.392065Z"
    }
   },
   "outputs": [],
   "source": [
    "qc = QuantumCircuit(2)\n",
    "qc.cz(0,1)              # Gerbang CZ diterapkan, q0 = kontrol, q1 = target\n",
    "qc.draw('mpl')"
   ]
  },
  {
   "cell_type": "markdown",
   "metadata": {},
   "source": [
    "### Gerbang Hadamard yang terkendali\n",
    "\n",
    "Terapkan gerbang $H$ ke qubit target jika qubit kontrol adalah $\\left|1\\right\\rangle$. Berikut ini adalah kasus di mana kontrol adalah qubit LSB.\n",
    "$$\n",
    "C_H = \n",
    "\\begin{pmatrix}\n",
    "1 & 0 & 0 & 0\\\\\n",
    "0 & \\frac{1}{\\sqrt{2}} & 0 & \\frac{1}{\\sqrt{2}}\\\\\n",
    "0 & 0 & 1 & 0\\\\\n",
    "0 & \\frac{1}{\\sqrt{2}}  & 0& -\\frac{1}{\\sqrt{2}}\n",
    "\\end{pmatrix}\n",
    "$$"
   ]
  },
  {
   "cell_type": "code",
   "execution_count": null,
   "metadata": {
    "ExecuteTime": {
     "end_time": "2021-07-31T05:12:11.524751Z",
     "start_time": "2021-07-31T05:12:11.518946Z"
    }
   },
   "outputs": [],
   "source": [
    "qc = QuantumCircuit(2)\n",
    "qc.ch(0,1)              # Gerbang CH diterapkan, q0 = kontrol, q1 = target\n",
    "qc.draw('mpl')"
   ]
  },
  {
   "cell_type": "markdown",
   "metadata": {},
   "source": [
    "### Gerbang rotasi terkendali\n",
    "\n",
    "#### Rotasi terkendali di sekitar sumbu Z\n",
    "\n",
    "Lakukan rotasi di sekitar sumbu Z pada qubit target jika qubit kontrol (di sini LSB) adalah $\\left|1\\right\\rangle$.\n",
    "\n",
    "$$\n",
    "C_{Rz}(\\lambda) = \n",
    "\\begin{pmatrix}\n",
    "1 & 0 & 0 & 0\\\\\n",
    "0 & e^{-i\\lambda/2} & 0 & 0\\\\\n",
    "0 & 0 & 1 & 0\\\\\n",
    "0 & 0 & 0 & e^{i\\lambda/2}\n",
    "\\end{pmatrix}\n",
    "$$"
   ]
  },
  {
   "cell_type": "code",
   "execution_count": null,
   "metadata": {
    "ExecuteTime": {
     "end_time": "2021-07-31T05:12:14.970661Z",
     "start_time": "2021-07-31T05:12:14.961038Z"
    }
   },
   "outputs": [],
   "source": [
    "qc = QuantumCircuit(2)\n",
    "qc.crz(pi/2,0,1)         # Gerbang CRz diterapkan, sudut putar pi/2, q0 = kontrol, dan q1 = target\n",
    "qc.draw('mpl')"
   ]
  },
  {
   "cell_type": "markdown",
   "metadata": {},
   "source": [
    "### Rotasi fase terkendali\n",
    "\n",
    "Lakukan rotasi fase jika kedua qubit berada dalam status $\\left|11\\right\\rangle$. Matriks tampak sama terlepas dari apakah MSB atau LSB adalah qubit kontrol.\n",
    "$$\n",
    "C_{p}(\\lambda) = \n",
    "\\begin{pmatrix}\n",
    "1 & 0 & 0 & 0\\\\\n",
    "0 & 1 & 0 & 0\\\\\n",
    "0 & 0 & 1 & 0\\\\\n",
    "0 & 0 & 0 & e^{i\\lambda}\n",
    "\\end{pmatrix}\n",
    "$$"
   ]
  },
  {
   "cell_type": "code",
   "execution_count": null,
   "metadata": {
    "ExecuteTime": {
     "end_time": "2021-07-31T05:12:36.826264Z",
     "start_time": "2021-07-31T05:12:36.820988Z"
    }
   },
   "outputs": [],
   "source": [
    "qc = QuantumCircuit(2)\n",
    "qc.cp(pi/2,0,1)           # Gerbang CP diterapkan, sudut putar pi/2, q0 = kontrol, dan q1 = target\n",
    "qc.draw('mpl')"
   ]
  },
  {
   "cell_type": "markdown",
   "metadata": {},
   "source": [
    "### Rotasi $u$ terkendali\n",
    "\n",
    "Lakukan rotasi $u$ terkendali pada qubit target jika qubit kontrol (di sini LSB) adalah $\\left|1\\right\\rangle$.\n",
    "$$\n",
    "C_{u}(\\theta, \\phi, \\lambda) \\equiv \n",
    "\\begin{pmatrix}\n",
    "1 & 0 & 0 & 0\\\\\n",
    "0 & e^{-i(\\phi+\\lambda)/2}\\cos(\\theta/2) & 0 & -e^{-i(\\phi-\\lambda)/2}\\sin(\\theta/2)\\\\\n",
    "0 & 0 & 1 & 0\\\\\n",
    "0 & e^{i(\\phi-\\lambda)/2}\\sin(\\theta/2) & 0 & e^{i(\\phi+\\lambda)/2}\\cos(\\theta/2)\n",
    "\\end{pmatrix}.\n",
    "$$"
   ]
  },
  {
   "cell_type": "code",
   "execution_count": null,
   "metadata": {
    "ExecuteTime": {
     "end_time": "2021-07-31T05:13:19.155213Z",
     "start_time": "2021-07-31T05:13:19.148466Z"
    }
   },
   "outputs": [],
   "source": [
    "qc = QuantumCircuit(2)\n",
    "qc.cu(pi/2, pi/4, pi/8, 0, 0,1) # Gerbang CU diterapkan, sudut θ= pi/2, ϕ=pi/4,  dan  λ=pi/8, q0 = kontrol, dan q1 = target\n",
    "qc.draw('mpl')"
   ]
  },
  {
   "cell_type": "markdown",
   "metadata": {},
   "source": [
    "### Gerbang SWAP\n",
    "\n",
    "Gerbang SWAP menukar dua qubit. Ia mengubah vektor basis sebagai\n",
    "\n",
    "$$\\left|00\\right\\rangle \\rightarrow \\left|00\\right\\rangle~,~\\left|01\\right\\rangle \\rightarrow \\left|10\\right\\rangle~,~\\left|10\\right\\rangle \\rightarrow \\left|01\\right\\rangle~,~\\left|11\\right\\rangle \\rightarrow \\left|11\\right\\rangle,$$\n",
    "\n",
    "yang memberikan representasi matriks dalam bentuk\n",
    "\n",
    "$$\n",
    "\\mathrm{SWAP} = \n",
    "\\begin{pmatrix}\n",
    "1 & 0 & 0 & 0\\\\\n",
    "0 & 0 & 1 & 0\\\\\n",
    "0 & 1 & 0 & 0\\\\\n",
    "0 & 0 & 0 & 1\n",
    "\\end{pmatrix}.\n",
    "$$"
   ]
  },
  {
   "cell_type": "code",
   "execution_count": null,
   "metadata": {
    "ExecuteTime": {
     "end_time": "2021-07-31T05:13:26.189896Z",
     "start_time": "2021-07-31T05:13:26.184311Z"
    }
   },
   "outputs": [],
   "source": [
    "qc = QuantumCircuit(2)\n",
    "qc.swap(0,1)              # kuantum state q0 ditukar dengan kuantum state q1\n",
    "qc.draw('mpl')"
   ]
  },
  {
   "cell_type": "markdown",
   "metadata": {},
   "source": [
    "## Gerbang tiga-qubit <a name=\"three_gates\"/>\n",
    "\n",
    "Ada dua gerbang tiga-qubit yang umum digunakan. Untuk tiga qubit, vektor basis diurutkan sebagai berikut\n",
    "\n",
    "$$\\left|000\\right\\rangle, \\left|001\\right\\rangle, \\left|010\\right\\rangle, \\left|011\\right\\rangle, \\left|100\\right\\rangle, \\left|101\\right\\rangle, \\left|110\\right\\rangle, \\left|111\\right\\rangle,$$\n",
    "\n",
    "yang, sebagai bitstring, mewakili bilangan bulat $0,1,2,\\cdots, 7$. Sekali lagi, Qiskit menggunakan representasi di mana qubit pertama berada di sisi paling kanan dari produk tensor dan qubit ketiga berada di sisi paling kiri:\n",
    "$$\\left|abc\\right\\rangle : \\underset{\\text{qubit 2}}{\\left|a\\right\\rangle}\\otimes \\underset{\\text{qubit 1}}{\\left|b\\right\\rangle}\\otimes \\underset{\\text{qubit 0}}{\\left|c\\right\\rangle}.$$"
   ]
  },
  {
   "cell_type": "markdown",
   "metadata": {},
   "source": [
    "### Gerbang Toffoli (gerbang $CCX$)\n",
    "\n",
    "[Gerbang Toffoli](https://en.wikipedia.org/wiki/Quantum_logic_gate#Toffoli_(CCNOT)_gate) membalik qubit ketiga jika dua qubit pertama (LSB) keduanya adalah $\\left|1\\right\\rangle$:\n",
    "\n",
    "$$\\left|abc\\right\\rangle \\rightarrow \\left|bc\\oplus a\\right\\rangle \\otimes \\left|b\\right\\rangle \\otimes \\left|c\\right\\rangle.$$\n",
    "\n",
    "Dalam bentuk matriks, gerbang Toffoli adalah\n",
    "$$\n",
    "C_{CX} = \n",
    "\\begin{pmatrix}\n",
    "1 & 0 & 0 & 0 & 0 & 0 & 0 & 0\\\\\n",
    "0 & 1 & 0 & 0 & 0 & 0 & 0 & 0\\\\\n",
    "0 & 0 & 1 & 0 & 0 & 0 & 0 & 0\\\\\n",
    "0 & 0 & 0 & 0 & 0 & 0 & 0 & 1\\\\\n",
    "0 & 0 & 0 & 0 & 1 & 0 & 0 & 0\\\\\n",
    "0 & 0 & 0 & 0 & 0 & 1 & 0 & 0\\\\\n",
    "0 & 0 & 0 & 0 & 0 & 0 & 1 & 0\\\\\n",
    "0 & 0 & 0 & 1 & 0 & 0 & 0 & 0\n",
    "\\end{pmatrix}.\n",
    "$$"
   ]
  },
  {
   "cell_type": "code",
   "execution_count": null,
   "metadata": {
    "ExecuteTime": {
     "end_time": "2021-07-31T05:13:31.638567Z",
     "start_time": "2021-07-31T05:13:31.633001Z"
    }
   },
   "outputs": [],
   "source": [
    "qc = QuantumCircuit(3)\n",
    "qc.ccx(0,1,2)          # gerbang CCX diterapkan dengan q0 = q1 = kontrol, sedangkan q2 = target\n",
    "qc.draw('mpl')"
   ]
  },
  {
   "cell_type": "markdown",
   "metadata": {},
   "source": [
    "### Gerbang swap terkendali (Gerbang Fredkin)\n",
    "\n",
    "[Gerbang Fredkin](https://en.wikipedia.org/wiki/Quantum_logic_gate#Fredkin_(CSWAP)_gate), atau *gerbang swap terkendali*, menukar qubit kedua dan ketiga jika qubit pertama (LSB) adalah $\\left|1\\right\\rangle$:\n",
    "\n",
    "$$ \\left|abc\\right\\rangle \\rightarrow \\begin{cases} \\left|bac\\right\\rangle~~\\text{if}~c=1 \\cr \\left|abc\\right\\rangle~~\\text{if}~c=0 \\end{cases}.$$\n",
    "\n",
    "Dalam bentuk matriks, gerbang Fredkin adalah\n",
    "\n",
    "$$\n",
    "C_{\\mathrm{SWAP}} = \n",
    "\\begin{pmatrix}\n",
    "1 & 0 & 0 & 0 & 0 & 0 & 0 & 0\\\\\n",
    "0 & 1 & 0 & 0 & 0 & 0 & 0 & 0\\\\\n",
    "0 & 0 & 1 & 0 & 0 & 0 & 0 & 0\\\\\n",
    "0 & 0 & 0 & 0 & 0 & 1 & 0 & 0\\\\\n",
    "0 & 0 & 0 & 0 & 1 & 0 & 0 & 0\\\\\n",
    "0 & 0 & 0 & 1 & 0 & 0 & 0 & 0\\\\\n",
    "0 & 0 & 0 & 0 & 0 & 0 & 1 & 0\\\\\n",
    "0 & 0 & 0 & 0 & 0 & 0 & 0 & 1\n",
    "\\end{pmatrix}.\n",
    "$$"
   ]
  },
  {
   "cell_type": "code",
   "execution_count": null,
   "metadata": {
    "ExecuteTime": {
     "end_time": "2021-07-31T05:13:35.557144Z",
     "start_time": "2021-07-31T05:13:35.551515Z"
    }
   },
   "outputs": [],
   "source": [
    "qc = QuantumCircuit(3)\n",
    "qc.cswap(0,1,2) # gerbang CSWAP diterapkan dengan q0 = kontrol, kuantum state q1 dan q2 ditukar  \n",
    "qc.draw('mpl')"
   ]
  },
  {
   "cell_type": "markdown",
   "metadata": {},
   "source": [
    "# 4. Ringkasan gerbang qubit tunggal dan qubit ganda"
   ]
  },
  {
   "cell_type": "code",
   "execution_count": null,
   "metadata": {},
   "outputs": [],
   "source": [
    "qc = QuantumCircuit(4)        # Buat rangkaian kuantum dengan 4 qubit: q3, q2, q1, q0\n",
    "\n",
    "# Gerbang 1-qubit\n",
    "qc.h(0)                       # Terapkan gerbang H pada q0\n",
    "qc.x(1)                       # Terapkan gerbang X pada q1\n",
    "qc.y(2)                       # Terapkan gerbang Y pada q2\n",
    "qc.z(3)                       # Terapkan gerbang Z pada q3\n",
    "\n",
    "qc.s(0)                       # gerbang S diterapkan pada q0\n",
    "qc.sdg(1)                     # gerbang konyugat S diterapkan pada q0\n",
    "qc.t(2)                       # gerbang T diterapkan pada q0\n",
    "qc.tdg(3)                     # gerbang konyugat T diterapkan pada q0\n",
    "\n",
    "qc.barrier()                  # Beri batas (tidak diproses)\n",
    "qc.u(pi/2,pi/4,pi/8,0)        # terapkan gerbang U, q0 diputar dengan sudut θ= pi/2, ϕ=pi/4,  dan  λ=pi/8\n",
    "qc.p(math.pi/2,0)             # Terapkan gerbang phase pada q0, nilai parameter pi/2 \n",
    "qc.rx(math.pi/4,1)            # Rotasi thd sb-x  pada q1, nilai parameter pi/4\n",
    "qc.ry(math.pi/8,2)            # Rotasi thd sb-y  pada q2, nilai parameter pi/8\n",
    "qc.rz(math.pi/5,3)            # Rotasi thd sb-z  pada q3, nilai parameter pi/5\n",
    "qc.barrier()                  # Beri batas (tidak diproses)\n",
    "\n",
    "\n",
    "# Gerbang 2-qubit\n",
    "qc.swap(0,1)                  # kuantum state q0 ditukar dengan kuantum state q1 \n",
    "qc.cx(2,3)                    # Gerbang kontrol-X/CNOT, q2 = kontrol, q3 = target\n",
    "qc.cy(2,0)                    # Gerbang kontrol-Y, q2 sebagai kontrol, q0 sebagai target\n",
    "qc.cz(3,1)                    # Gerbang kontrol-Z, q3 sebagai kontrol, q1 sebagai target\n",
    "qc.ch(3,0)                    # Gerbang kontrol-H, q3 = kontrol, q0 = target\n",
    "qc.crx(math.pi/2,0,3)         # Gerbang kontrol-Rx, q0 sebagai kontrol, q3 sebagai target, nilai parameter pi/2\n",
    "qc.cry(math.pi/8,2,1)         # Gerbang kontrol-Ry, q2 sebagai kontrol, q1 sebagai target, nilai parameter pi/8\n",
    "qc.crz(math.pi/4,1,3)         # Gerbang kontrol-Rz, q1 sebagai kontrol, q3 sebagai target, nilai parameter pi/4\n",
    "qc.barrier()                  # Beri batas (tidak diproses)\n",
    "\n",
    "# Gerbang 3-qubit atau lebih\n",
    "qc.ccx(0,1,2)                 # Gerbang Kontrol-kontrol-X, q0 dan q1 sebagai kontrol, q2 sebagai target\n",
    "qc.cswap(0,2,3)               # Gerbang kontrol-Swap, q0 sebagai kontrol, nilai q2 ditukardenagn nilai q3\n",
    "qc.mcp(math.pi/4, [0,1,2],3)  # Gerbang Multi kontrol phase, [0,1,2] sebagai kontrol, q3 sebagai target\n",
    "qc.mcx([0,1,2],3)             # Gerbang Multi kontrol-X, [0,1,2] sebagai kontrol, q3 sebagai target\n",
    "qc.draw('mpl')                # Tampilkan gambar sirkuit di layar"
   ]
  },
  {
   "cell_type": "code",
   "execution_count": null,
   "metadata": {},
   "outputs": [],
   "source": []
  },
  {
   "cell_type": "code",
   "execution_count": null,
   "metadata": {},
   "outputs": [],
   "source": []
  },
  {
   "cell_type": "markdown",
   "metadata": {},
   "source": [
    "# CONTOH 1: Membangun Rangkaian Kuantum \n",
    "#### Langkah-langkah untuk membangun rangkaian kuantum menggunakan Qiskit\n",
    "1. Memanggil Library yang Dibutuhkan\n",
    "2. Membangun Rangkaian Kuantum (Quantum Circuit)\n",
    "3. Menambahkan Gerbang Kuantum (Quantum Gates)\n",
    "4. Mengukur Qubit (Measurement)\n",
    "5. Menjalankan Rangkaian Kuantum di komputer lokal\n",
    "6. Mengambil dan menampilkan hasil eksperimen di layar\n",
    "7. Mem-Visualisasikan hasil eksperimen di layar                                  "
   ]
  },
  {
   "cell_type": "markdown",
   "metadata": {},
   "source": [
    "### 1. Memanggil Library yang Dibutuhkan"
   ]
  },
  {
   "cell_type": "code",
   "execution_count": 3,
   "metadata": {},
   "outputs": [],
   "source": [
    "import numpy as np\n",
    "from qiskit import QuantumCircuit, transpile\n",
    "from qiskit_aer import AerSimulator\n",
    "from qiskit.quantum_info import Statevector\n",
    "from qiskit.visualization import array_to_latex\n",
    "from qiskit.visualization import plot_histogram, plot_bloch_multivector"
   ]
  },
  {
   "cell_type": "markdown",
   "metadata": {},
   "source": [
    "### 2. Membangun Rangkaian kuantum 3 qubit"
   ]
  },
  {
   "cell_type": "code",
   "execution_count": 4,
   "metadata": {},
   "outputs": [
    {
     "data": {
      "image/png": "[encoded data removed]",
      "text/plain": [
       "<Figure size 162.08x284.278 with 1 Axes>"
      ]
     },
     "execution_count": 4,
     "metadata": {},
     "output_type": "execute_result"
    }
   ],
   "source": [
    "qc = QuantumCircuit(3)   # susunan qubit: q2 q1 q0\n",
    "# Menggambar rangkaian di layar\n",
    "qc.draw('mpl')                # Tampilkan gambar sirkuit di layar\n"
   ]
  },
  {
   "cell_type": "markdown",
   "metadata": {},
   "source": [
    "### 3. Menambahkan gerbang kuantum untuk mengubah-ubah keadaan qubit "
   ]
  },
  {
   "cell_type": "code",
   "execution_count": 5,
   "metadata": {},
   "outputs": [
    {
     "data": {
      "image/png": "[encoded data removed]",
      "text/plain": [
       "<Figure size 538.33x284.278 with 1 Axes>"
      ]
     },
     "execution_count": 5,
     "metadata": {},
     "output_type": "execute_result"
    }
   ],
   "source": [
    "qc.h(0)           # menambahkan gerbang X pada qubit ke-0 (q0)\n",
    "qc.x(1)           # menambahkan gerbang H pada qubit ke-1 (q1)\n",
    "qc.h(2)           # menambahkan gerbang Y pada qubit ke-2 (q2)\n",
    "qc.barrier()\n",
    "qc.y(0)\n",
    "qc.cx(1,2)\n",
    "qc.barrier()\n",
    "qc.swap(0,1)\n",
    "# Menggambar rangkaian di layar\n",
    "qc.draw('mpl')     # Tampilkan gambar sirkuit di layar"
   ]
  },
  {
   "cell_type": "code",
   "execution_count": 6,
   "metadata": {},
   "outputs": [
    {
     "data": {
      "text/latex": [
       "$$- \\frac{i}{2} |001\\rangle+\\frac{i}{2} |011\\rangle- \\frac{i}{2} |101\\rangle+\\frac{i}{2} |111\\rangle$$"
      ],
      "text/plain": [
       "<IPython.core.display.Latex object>"
      ]
     },
     "execution_count": 6,
     "metadata": {},
     "output_type": "execute_result"
    }
   ],
   "source": [
    "# menampilkan keadaan kuantum di layar \n",
    "psi=Statevector(qc)\n",
    "psi.draw('latex')"
   ]
  },
  {
   "cell_type": "markdown",
   "metadata": {},
   "source": [
    "Perhatikan bahwa: probabilitas untuk mendapatkan keadaan\n",
    "- |001> = 1/4\n",
    "- |011> = 1/4\n",
    "- |101> = 1/4\n",
    "- |111> = 1/4"
   ]
  },
  {
   "cell_type": "markdown",
   "metadata": {},
   "source": [
    "### 4. Mengukur qubit"
   ]
  },
  {
   "cell_type": "code",
   "execution_count": 7,
   "metadata": {},
   "outputs": [
    {
     "data": {
      "image/png": "[encoded data removed]",
      "text/plain": [
       "<Figure size 914.831x367.889 with 1 Axes>"
      ]
     },
     "execution_count": 7,
     "metadata": {},
     "output_type": "execute_result"
    }
   ],
   "source": [
    "qc.measure_all()\n",
    "# Menggambar rangkaian di layar\n",
    "qc.draw('mpl')                # Tampilkan gambar sirkuit di layar"
   ]
  },
  {
   "cell_type": "markdown",
   "metadata": {},
   "source": [
    "### 5.Menjalankan rangkaian Kuantum di komputer lokal"
   ]
  },
  {
   "cell_type": "code",
   "execution_count": 8,
   "metadata": {},
   "outputs": [],
   "source": [
    "backend = AerSimulator()\n",
    "\n",
    "# transpilasi rangkaian kuantum ke instruksi QASM tingkat rendah \n",
    "qc_compiled = transpile(qc, backend)\n",
    "\n",
    "# Jalankan rangkaian pada simulator qasm. pengukuran dilakukan 100 kali\n",
    "job = backend.run(qc_compiled, shots=100)  \n",
    "\n",
    "# Raih hasil dari pekerjaan tersebut\n",
    "result = job.result()"
   ]
  },
  {
   "cell_type": "markdown",
   "metadata": {},
   "source": [
    "### 6. Mengambil dan menampilkan hasil eksperimen di layar"
   ]
  },
  {
   "cell_type": "code",
   "execution_count": 9,
   "metadata": {},
   "outputs": [
    {
     "name": "stdout",
     "output_type": "stream",
     "text": [
      "{'101': 22, '001': 29, '111': 20, '011': 29}\n"
     ]
    }
   ],
   "source": [
    "count = result.get_counts()            # mengambil hasil pengukuran\n",
    "print(count)                           # cetak di layar"
   ]
  },
  {
   "cell_type": "code",
   "execution_count": null,
   "metadata": {},
   "outputs": [],
   "source": [
    "Artinya: setelah dilakukan pengukuran\n",
    "- keadaan qubit |101> runtuh menjadi bit klasik 101 \n",
    "- keadaan qubit |001> runtuh menjadi bit klasik 001\n",
    "- keadaan qubit |111> runtuh menjadi bit klasik 111\n",
    "- keadaan qubit |011> runtuh menjadi bit klasik 011"
   ]
  },
  {
   "cell_type": "markdown",
   "metadata": {},
   "source": [
    "### 7.Mem-Visualisasikan hasil eksperimen di layar"
   ]
  },
  {
   "cell_type": "code",
   "execution_count": 11,
   "metadata": {},
   "outputs": [
    {
     "data": {
      "image/png": "[encoded data removed]",
      "text/plain": [
       "<Figure size 640x480 with 1 Axes>"
      ]
     },
     "execution_count": 11,
     "metadata": {},
     "output_type": "execute_result"
    }
   ],
   "source": [
    "plot_histogram(count)"
   ]
  },
  {
   "cell_type": "markdown",
   "metadata": {},
   "source": [
    "#### Histogram adalah grafik yang menampilkan frekuensi dari tiap-tiap keadaan"
   ]
  },
  {
   "cell_type": "code",
   "execution_count": 14,
   "metadata": {},
   "outputs": [
    {
     "name": "stdout",
     "output_type": "stream",
     "text": [
      "pengukuran dilakukan 100 kali\n",
      "secara teori keadaan |001> muncul 25 kali (1/4*100)\n",
      "tetapi prakteknya keadaan |001> muncul 29 kali\n"
     ]
    }
   ],
   "source": [
    "print('pengukuran dilakukan 100 kali')\n",
    "print('secara teori keadaan |001> muncul 25 kali (1/4*100)') \n",
    "print('tetapi prakteknya keadaan |001> muncul', count['001'], 'kali') "
   ]
  },
  {
   "cell_type": "code",
   "execution_count": null,
   "metadata": {},
   "outputs": [],
   "source": []
  },
  {
   "cell_type": "code",
   "execution_count": null,
   "metadata": {},
   "outputs": [],
   "source": []
  },
  {
   "cell_type": "markdown",
   "metadata": {},
   "source": [
    "## CONTOH 2: Membangun Rangkaian Kuantum Step by Step"
   ]
  },
  {
   "cell_type": "markdown",
   "metadata": {},
   "source": [
    "### 1. Memanggil Library yang Dibutuhkan"
   ]
  },
  {
   "cell_type": "code",
   "execution_count": null,
   "metadata": {},
   "outputs": [],
   "source": [
    "import numpy as np\n",
    "from qiskit import QuantumCircuit, transpile\n",
    "from qiskit_aer import AerSimulator\n",
    "from qiskit.quantum_info import Statevector\n",
    "from qiskit.visualization import array_to_latex\n",
    "from qiskit.visualization import plot_histogram, plot_bloch_multivector"
   ]
  },
  {
   "cell_type": "markdown",
   "metadata": {},
   "source": [
    "### 2.Membangun Rangkaian Kuantum"
   ]
  },
  {
   "cell_type": "code",
   "execution_count": null,
   "metadata": {},
   "outputs": [],
   "source": [
    "# Membangun Rangkaian Kuantum yang bekerja pada register kuantum tiga qubit\n",
    "qc = QuantumCircuit(3)   # susunan qubit: q2 q1 q0\n",
    "qc.draw('mpl')           # menampilkan gambar rangkaian di layar"
   ]
  },
  {
   "cell_type": "code",
   "execution_count": null,
   "metadata": {},
   "outputs": [],
   "source": [
    "# menampilkan keadaan awal di layar \n",
    "psi=Statevector(qc)\n",
    "psi.draw('latex')"
   ]
  },
  {
   "cell_type": "markdown",
   "metadata": {},
   "source": [
    "- Perhatikan bahwa, secara default keadaan awal kuantum |q2 q1 q0> =|000>"
   ]
  },
  {
   "cell_type": "code",
   "execution_count": null,
   "metadata": {},
   "outputs": [],
   "source": [
    "#Cara alternatif untuk merepresentasikan dalam lateks\n",
    "array_to_latex(psi)"
   ]
  },
  {
   "cell_type": "code",
   "execution_count": null,
   "metadata": {},
   "outputs": [],
   "source": [
    "# Visualisasi keadaan qubit dalam bentuk Bola Bloch\n",
    "plot_bloch_multivector(psi)"
   ]
  },
  {
   "cell_type": "markdown",
   "metadata": {},
   "source": [
    "- Perhatikan bahwa qubit q0, q1, dan q2, semuanya mengarah ke atas"
   ]
  },
  {
   "cell_type": "markdown",
   "metadata": {},
   "source": [
    "### 3. Menambahkan Gerbang Kuantum "
   ]
  },
  {
   "cell_type": "code",
   "execution_count": null,
   "metadata": {},
   "outputs": [],
   "source": [
    "qc.x(0)           # menambahkan gerbang X pada qubit ke-0 (q0)\n",
    "qc.h(1)           # menambahkan gerbang H pada qubit ke-1 (q1)\n",
    "qc.y(2)           # menambahkan gerbang Y pada qubit ke-2 (q2)\n",
    "qc.draw('mpl')    # menampilkan gambar rangkaian di layar"
   ]
  },
  {
   "cell_type": "code",
   "execution_count": null,
   "metadata": {},
   "outputs": [],
   "source": [
    "# menampilkan kuantum state (keadaan kuantum)\n",
    "psi=Statevector(qc)\n",
    "psi.draw('latex')"
   ]
  },
  {
   "cell_type": "markdown",
   "metadata": {},
   "source": [
    "- Probabilitas mendapatkan keadaan kuantum |101> = [akar(2)/2]^2 = 1/2\n",
    "- Probabilitas mendapatkan keadaan kuantum |111> = [akar(2)/2]^2 = 1/2\n",
    "- Jumlah probabilitas seluruhnya = 1/2 + 1/2 = 1"
   ]
  },
  {
   "cell_type": "code",
   "execution_count": null,
   "metadata": {},
   "outputs": [],
   "source": [
    "#Cara alternatif untuk merepresentasikan dalam lateks\n",
    "array_to_latex(psi)"
   ]
  },
  {
   "cell_type": "markdown",
   "metadata": {},
   "source": [
    "- Perhaikan bahwa, setelah menerapkan gerbang kuantum, Ada dua state, |101> dan |111>"
   ]
  },
  {
   "cell_type": "code",
   "execution_count": null,
   "metadata": {},
   "outputs": [],
   "source": [
    "# menampilkan keadaan qubit dalam bentuk Bola Bloch\n",
    "plot_bloch_multivector(psi)"
   ]
  },
  {
   "cell_type": "markdown",
   "metadata": {},
   "source": [
    "Perhatikan bahwa, \n",
    "- arah q0 kebawah karena memiliki kuantum state |1>, \n",
    "- arah q1 searah dengan sumbu-x,   psi = 1/sqrt(2) [|0> + |1>]\n",
    "- q2 arahnya kebawah memiliki kuantum state |1>"
   ]
  },
  {
   "cell_type": "markdown",
   "metadata": {},
   "source": [
    "### 4. Pengukuran Qubit (Measurement)"
   ]
  },
  {
   "cell_type": "code",
   "execution_count": null,
   "metadata": {},
   "outputs": [],
   "source": [
    "qc. measure_all()             # Pengukuran pada seluruh qubit\n",
    "qc.draw('mpl')                # Tampilkan gambar sirkuit di layar"
   ]
  },
  {
   "cell_type": "markdown",
   "metadata": {},
   "source": [
    "### 5. Menjalankan Sirkuit Kuantum di komputer lokal"
   ]
  },
  {
   "cell_type": "code",
   "execution_count": null,
   "metadata": {},
   "outputs": [],
   "source": [
    "backend = AerSimulator()\n",
    "qc_compiled = transpile(qc, backend)\n",
    "job = backend.run(qc_compiled, shots=1024) #pengukuran dilakukan 1024 kali\n",
    "result = job.result()"
   ]
  },
  {
   "cell_type": "markdown",
   "metadata": {},
   "source": [
    "### 6. Mendapatkan dan Menampilkan Hasil"
   ]
  },
  {
   "cell_type": "code",
   "execution_count": null,
   "metadata": {},
   "outputs": [],
   "source": [
    "count = result.get_counts()            # mengambil hasil pengukuran\n",
    "print(count)                           # cetak di layar"
   ]
  },
  {
   "cell_type": "markdown",
   "metadata": {},
   "source": [
    "# 7. Visualisasikan menggunakan Histogram"
   ]
  },
  {
   "cell_type": "code",
   "execution_count": null,
   "metadata": {},
   "outputs": [],
   "source": [
    "plot_histogram(count)"
   ]
  },
  {
   "cell_type": "code",
   "execution_count": null,
   "metadata": {},
   "outputs": [],
   "source": [
    "print('pengukuran dilakukan 1024 kali')\n",
    "print('probabilitas mendapatkan keadaan |101> = 1/2, tetapi keadaan |101> muncul', count['101'], 'kali') \n",
    "print('probabilitas mendapatkan keadaan |111> = 1/2, tetapi keadaan |111>muncul', count['111'], 'kali') "
   ]
  },
  {
   "cell_type": "code",
   "execution_count": null,
   "metadata": {},
   "outputs": [],
   "source": []
  },
  {
   "cell_type": "code",
   "execution_count": null,
   "metadata": {},
   "outputs": [],
   "source": []
  },
  {
   "cell_type": "markdown",
   "metadata": {},
   "source": [
    "# CONTOH 3: Rangkaian dengan keadaan awal "
   ]
  },
  {
   "cell_type": "markdown",
   "metadata": {},
   "source": [
    "## Inisialisasi sembarang <a name=\"initialization\"/>\n",
    "Bagaimana jika kita ingin menginisialisasi register qubit ke status sembarang? Status sembarang untuk $n$ qubit dapat ditentukan oleh vektor $2^n$ amplitudo, di mana jumlah kuadrat norma amplitudo sama dengan 1. Misalnya, status tiga qubit berikut dapat disiapkan:\n",
    "$$\\left|\\psi\\right\\rangle = \\frac{i}{4}\\left|000\\right\\rangle + \\frac{1}{\\sqrt{8}}\\left|001\\right\\rangle + \\frac{1+i}{4}\\left|010\\right\\rangle + \\frac{1+2i}{\\sqrt{8}}\\left|101\\right\\rangle + \\frac{1}{4}\\left|110\\right\\rangle$$"
   ]
  },
  {
   "cell_type": "code",
   "execution_count": null,
   "metadata": {},
   "outputs": [],
   "source": [
    "# Inisialisasi kuantum state 3-qubit \n",
    "import math\n",
    "keadaan_awal = [\n",
    "    1 / math.sqrt(16) * complex(0, 1),    # z = 0 + i\n",
    "    1 / math.sqrt(8) * complex(1, 0),     # z = 1 + 0.i\n",
    "    1 / math.sqrt(16) * complex(1, 1),    # z = 1 + i\n",
    "    0,\n",
    "    0,\n",
    "    1 / math.sqrt(8) * complex(1, 2),     # z = 1 + 2i\n",
    "    1 / math.sqrt(16) * complex(1, 0),    # z = 1 + 0.i\n",
    "    0]\n",
    "\n",
    "qc = QuantumCircuit(3)\n",
    "qc.initialize(keadaan_awal, [0,1,2])  # keadaan awal diterapkan pada q0, q1, q2\n",
    "qc.draw('mpl')"
   ]
  },
  {
   "cell_type": "code",
   "execution_count": null,
   "metadata": {},
   "outputs": [],
   "source": [
    "# menampilkan keadaan awal:\n",
    "psi=Statevector(qc)\n",
    "psi.draw('latex')"
   ]
  },
  {
   "cell_type": "code",
   "execution_count": null,
   "metadata": {},
   "outputs": [],
   "source": [
    "#Cara alternatif untuk merepresentasikan dalam lateks\n",
    "array_to_latex(psi)"
   ]
  },
  {
   "cell_type": "markdown",
   "metadata": {},
   "source": [
    "##### penerapan berbagai gerbang kuantum"
   ]
  },
  {
   "cell_type": "code",
   "execution_count": null,
   "metadata": {},
   "outputs": [],
   "source": [
    "qc.barrier()\n",
    "qc.h(0)\n",
    "qc.x(1)\n",
    "qc.y(2)\n",
    "qc.barrier()\n",
    "qc.ccx(2,1,0)\n",
    "qc.draw('mpl')                # Tampilkan gambar sirkuit di layar"
   ]
  },
  {
   "cell_type": "code",
   "execution_count": null,
   "metadata": {},
   "outputs": [],
   "source": [
    "# menampilkan keadaan kuantum setelah berbagai gerbang diterapkan\n",
    "psi=Statevector(qc)\n",
    "psi.draw('latex')"
   ]
  },
  {
   "cell_type": "code",
   "execution_count": null,
   "metadata": {},
   "outputs": [],
   "source": [
    "#Cara alternatif untuk merepresentasikan dalam lateks\n",
    "array_to_latex(psi)"
   ]
  },
  {
   "cell_type": "code",
   "execution_count": null,
   "metadata": {},
   "outputs": [],
   "source": [
    "# Pengukuran seluruh qubit\n",
    "qc. measure_all()             # Pengukuran pada seluruh qubit\n",
    "qc.draw('mpl')                # Tampilkan gambar sirkuit di layar"
   ]
  },
  {
   "cell_type": "code",
   "execution_count": null,
   "metadata": {},
   "outputs": [],
   "source": [
    "backend = AerSimulator()\n",
    "qc_compiled = transpile(qc, backend)\n",
    "job = backend.run(qc_compiled, shots=1024)\n",
    "result = job.result()\n",
    "\n",
    "count = result.get_counts()            # mengambil hasil pengukuran\n",
    "print(count)                           # cetak di layar"
   ]
  },
  {
   "cell_type": "code",
   "execution_count": null,
   "metadata": {},
   "outputs": [],
   "source": [
    "plot_histogram(count)"
   ]
  },
  {
   "cell_type": "code",
   "execution_count": null,
   "metadata": {},
   "outputs": [],
   "source": []
  },
  {
   "cell_type": "code",
   "execution_count": null,
   "metadata": {},
   "outputs": [],
   "source": []
  },
  {
   "cell_type": "markdown",
   "metadata": {},
   "source": [
    "# CONTOH 4: Konsep Superposisi"
   ]
  },
  {
   "cell_type": "code",
   "execution_count": null,
   "metadata": {},
   "outputs": [],
   "source": [
    "qc = QuantumCircuit(4)        # Buat rangkaian kuantum dengan 4 qubit: q3, q2, q1, q0\n",
    "qc.h(0)                       # q0 mengalami superposisi\n",
    "qc.draw('mpl')"
   ]
  },
  {
   "cell_type": "code",
   "execution_count": null,
   "metadata": {},
   "outputs": [],
   "source": [
    "# menampilkan kuantum state (keadaan kuantum)\n",
    "psi=Statevector(qc)\n",
    "psi.draw('latex')"
   ]
  },
  {
   "cell_type": "markdown",
   "metadata": {},
   "source": [
    "- Perhatikan bahwa keadaan kuantum q3,q2,q1 = 000, sedangkan keadaan kuantum q0 = 0 dan 1 "
   ]
  },
  {
   "cell_type": "markdown",
   "metadata": {},
   "source": [
    "# CONTOH 5: Konsep Entanglement"
   ]
  },
  {
   "cell_type": "code",
   "execution_count": null,
   "metadata": {},
   "outputs": [],
   "source": [
    "qc = QuantumCircuit(2)        # Buat sirkuit kuantum dengan 4 qubit: q2, q1, q0\n",
    "qc.h(0)\n",
    "qc.cx(0,1)\n",
    "\n",
    "qc.draw('mpl')  "
   ]
  },
  {
   "cell_type": "code",
   "execution_count": null,
   "metadata": {},
   "outputs": [],
   "source": [
    "# menampilkan kuantum state (keadaan kuantum)\n",
    "psi=Statevector(qc)\n",
    "psi.draw('latex')"
   ]
  },
  {
   "cell_type": "markdown",
   "metadata": {},
   "source": [
    "###### Perhatikan suku pertama, bila q0 = 0 maka q1 = 0, dan suku kedua bila q0 = 1, maka q1 = 1\n",
    "\n",
    "###### hal ini bisa juga terjadi dengan kondisi berikut:\n",
    "- |00> + |11>\n",
    "- |01> + |10>\n",
    "- |00> - |11>\n",
    "- |01> - |10>"
   ]
  },
  {
   "cell_type": "markdown",
   "metadata": {},
   "source": [
    "# CONTOH 6: Konsep Interferensi"
   ]
  },
  {
   "cell_type": "code",
   "execution_count": null,
   "metadata": {},
   "outputs": [],
   "source": [
    "import numpy as np\n",
    "from qiskit import QuantumCircuit, transpile\n",
    "from qiskit_aer import AerSimulator\n",
    "from qiskit.quantum_info import Statevector\n",
    "from qiskit.visualization import array_to_latex\n",
    "from qiskit.visualization import plot_histogram, plot_bloch_multivector"
   ]
  },
  {
   "cell_type": "code",
   "execution_count": null,
   "metadata": {},
   "outputs": [],
   "source": [
    "# Inisialisasi kuantum state 3-qubit \n",
    "import math\n",
    "keadaan_awal = [\n",
    "    1 / math.sqrt(16) * complex(0, 1),    # z = 0 + i\n",
    "    1 / math.sqrt(8) * complex(1, 0),     # z = 1 + 0.i\n",
    "    1 / math.sqrt(16) * complex(1, 1),    # z = 1 + i\n",
    "    0,\n",
    "    0,\n",
    "    1 / math.sqrt(8) * complex(1, 2),     # z = 1 + 2i\n",
    "    1 / math.sqrt(16) * complex(1, 0),    # z = 1 + 0.i\n",
    "    0]\n",
    "\n",
    "qc = QuantumCircuit(3)                # buat rangkaian terdiri dari 3-qubit\n",
    "qc.initialize(keadaan_awal, [0,1,2])  # keadaan awal diterapkan pada q0, q1, q2\n",
    "qc.draw('mpl')"
   ]
  },
  {
   "cell_type": "code",
   "execution_count": null,
   "metadata": {},
   "outputs": [],
   "source": [
    "# menampilkan kuantum state (keadaan kuantum)\n",
    "psi=Statevector(qc)\n",
    "psi.draw('latex')"
   ]
  },
  {
   "cell_type": "code",
   "execution_count": null,
   "metadata": {},
   "outputs": [],
   "source": [
    "#Cara alternatif untuk merepresentasikan dalam lateks\n",
    "array_to_latex(psi)"
   ]
  },
  {
   "cell_type": "markdown",
   "metadata": {},
   "source": [
    "#### Perhatikan, pada keadaan awal, hanya ada 5 keadaan kuantum, yaitu: |000>, |001>,|010>,|101>,|110>\n",
    "- amplitudo masing-masing keadaan kuantum adalah\n",
    "- Amplitudo Keadaan kuantum |000> adalah i/4\n",
    "- Amplitudo Keadaan kuantum |001> adalah akar(2)/4\n",
    "- Amplitudo Keadaan kuantum |010> adalah (1+i)/4\n",
    "- Amplitudo Keadaan kuantum |101> adalah [akar(2)/4 + akar(2)i/2]\n",
    "- Amplitudo Keadaan kuantum |110> adalah 1/4"
   ]
  },
  {
   "cell_type": "markdown",
   "metadata": {},
   "source": [
    "#### Sekarang berbagai gerbang diterapkan pada rangkaian"
   ]
  },
  {
   "cell_type": "code",
   "execution_count": null,
   "metadata": {},
   "outputs": [],
   "source": [
    "qc.barrier()\n",
    "qc.h(0)\n",
    "qc.x(1)\n",
    "qc.y(2)\n",
    "qc.barrier()\n",
    "qc.ccx(2,1,0)\n",
    "qc.draw('mpl')                # Tampilkan gambar sirkuit di layar"
   ]
  },
  {
   "cell_type": "code",
   "execution_count": null,
   "metadata": {},
   "outputs": [],
   "source": [
    "# menampilkan kuantum state (keadaan kuantum)\n",
    "psi=Statevector(qc)\n",
    "psi.draw('latex')"
   ]
  },
  {
   "cell_type": "code",
   "execution_count": null,
   "metadata": {},
   "outputs": [],
   "source": [
    "#Cara alternatif untuk merepresentasikan dalam lateks\n",
    "array_to_latex(psi)"
   ]
  },
  {
   "cell_type": "code",
   "execution_count": null,
   "metadata": {},
   "outputs": [],
   "source": [
    "qc. measure_all()             # Pengukuran pada seluruh qubit\n",
    "qc.draw('mpl')                # Tampilkan gambar sirkuit di layar\n"
   ]
  },
  {
   "cell_type": "code",
   "execution_count": null,
   "metadata": {},
   "outputs": [],
   "source": [
    "backend = AerSimulator()\n",
    "qc_compiled = transpile(qc, backend)\n",
    "job = backend.run(qc_compiled, shots=1024)\n",
    "result = job.result()\n",
    "count = result.get_counts()            # mengambil hasil pengukuran\n",
    "plot_histogram(count)"
   ]
  },
  {
   "cell_type": "markdown",
   "metadata": {},
   "source": [
    "#### Setelah berbagai gerbang diterapkan, keadaan kuantumnya menjadi 8, \n",
    "- yaitu:|000>, |001>,|010>,|011>,|100>,|101>,|110>, dan |111>\n",
    "- ini menandakan amplitudo dari qubit q0,q1, dan q2 saling berinterferensi  \n",
    "- bisa juga diartikan, telah terjadi interferensi antar keadaan kuantum\n",
    "\n",
    "- Keadaan kuantum |010> dan |011> mempunyai frekuensi terbesar, menandakan adanya interferensi konstruktif (saling menguatkan)"
   ]
  },
  {
   "cell_type": "code",
   "execution_count": null,
   "metadata": {},
   "outputs": [],
   "source": []
  }
 ],
 "metadata": {
  "anaconda-cloud": {},
  "kernelspec": {
   "display_name": "Python 3 (ipykernel)",
   "language": "python",
   "name": "python3"
  },
  "language_info": {
   "codemirror_mode": {
    "name": "ipython",
    "version": 3
   },
   "file_extension": ".py",
   "mimetype": "text/x-python",
   "name": "python",
   "nbconvert_exporter": "python",
   "pygments_lexer": "ipython3",
   "version": "3.11.11"
  },
  "varInspector": {
   "cols": {
    "lenName": 16,
    "lenType": 16,
    "lenVar": 40
   },
   "kernels_config": {
    "python": {
     "delete_cmd_postfix": "",
     "delete_cmd_prefix": "del ",
     "library": "var_list.py",
     "varRefreshCmd": "print(var_dic_list())"
    },
    "r": {
     "delete_cmd_postfix": ") ",
     "delete_cmd_prefix": "rm(",
     "library": "var_list.r",
     "varRefreshCmd": "cat(var_dic_list()) "
    }
   },
   "types_to_exclude": [
    "module",
    "function",
    "builtin_function_or_method",
    "instance",
    "_Feature"
   ],
   "window_display": false
  }
 },
 "nbformat": 4,
 "nbformat_minor": 4
}
