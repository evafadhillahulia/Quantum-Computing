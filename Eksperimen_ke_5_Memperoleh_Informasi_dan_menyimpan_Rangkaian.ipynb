{
 "cells": [
  {
   "cell_type": "markdown",
   "id": "8c623676-4dca-4a42-8fa2-cd30c28fa5d1",
   "metadata": {},
   "source": [
    "# Materi\n",
    "\n",
    "#### 1. Memperoleh informasi tentang rangkaian kuantum\n",
    "\n",
    "#### 2. Menyimpan Sirkuit Kuantum ke Disk sebagai 'Nama_File.qpy'\n",
    "\n",
    "#### 3. Memanggil file qpy"
   ]
  },
  {
   "cell_type": "code",
   "execution_count": 1,
   "id": "41f8ebf6-9997-4485-ba75-095a875e057d",
   "metadata": {},
   "outputs": [],
   "source": [
    "from qiskit import QuantumCircuit, ClassicalRegister, QuantumRegister, transpile\n",
    "from qiskit_aer import AerSimulator\n",
    "from qiskit.quantum_info import Statevector\n",
    "from qiskit.visualization import array_to_latex\n",
    "from qiskit.visualization import plot_histogram, plot_bloch_multivector\n",
    "import matplotlib.pyplot as plt\n",
    "import numpy as np\n",
    "from math import pi\n",
    "from math import sqrt\n",
    "import math"
   ]
  },
  {
   "cell_type": "markdown",
   "id": "e850a082-0adf-4edf-b465-09977aa854cf",
   "metadata": {},
   "source": [
    "### 1. Memperoleh informasi tentang rangkaian kuantum"
   ]
  },
  {
   "cell_type": "code",
   "execution_count": 2,
   "id": "c48c32ba-a78d-4610-94c1-ef46c63de7a1",
   "metadata": {},
   "outputs": [
    {
     "data": {
      "image/png": "[encoded data removed]",
      "text/plain": [
       "<Figure size 1408.2x367.889 with 1 Axes>"
      ]
     },
     "execution_count": 2,
     "metadata": {},
     "output_type": "execute_result"
    }
   ],
   "source": [
    "qr = QuantumRegister(3, 'qubit')\n",
    "cr = ClassicalRegister(3, 'clasical bit')\n",
    "qc = QuantumCircuit(qr, cr)\n",
    "\n",
    "qc.h(qr)\n",
    "qc.barrier(qr)\n",
    "qc.x(1)\n",
    "qc.cx(0, 2)\n",
    "qc.cx(2,1)\n",
    "qc.barrier()\n",
    "qc.h([0,1,2])\n",
    "qc.swap(1,2)                  # Nilai q1 ditukar dengan nilai q2 \n",
    "qc.crz(math.pi/4,0,1)         # Gerbang kontrol-Rz, q1 sebagai kontrol, q3 sebagai target, nilai parameter pi/4\n",
    "qc.barrier()\n",
    "qc.h([1,2])\n",
    "qc.x(2)\n",
    "qc.mcx([0,1],2)              # Gerbang Multi kontrol-X, [0,1] sebagai kontrol, q2 sebagai target\n",
    "qc.z(0)\n",
    "qc.draw('mpl')"
   ]
  },
  {
   "cell_type": "code",
   "execution_count": 3,
   "id": "aff7271f-f6f2-4f70-9bf8-cca09c04741c",
   "metadata": {},
   "outputs": [
    {
     "data": {
      "text/latex": [
       "$$\\frac{1}{2} |000\\rangle+\\frac{1}{2} |010\\rangle+\\frac{1}{2} |100\\rangle+\\frac{1}{2} |110\\rangle$$"
      ],
      "text/plain": [
       "<IPython.core.display.Latex object>"
      ]
     },
     "execution_count": 3,
     "metadata": {},
     "output_type": "execute_result"
    }
   ],
   "source": [
    "# mendapatkan kuantum state akhir\n",
    "psi=Statevector(qc)\n",
    "psi.draw('latex')"
   ]
  },
  {
   "cell_type": "code",
   "execution_count": 4,
   "id": "2b2e2392-ca51-4498-95c9-25cd49610029",
   "metadata": {},
   "outputs": [
    {
     "data": {
      "text/plain": [
       "'qubit'"
      ]
     },
     "execution_count": 4,
     "metadata": {},
     "output_type": "execute_result"
    }
   ],
   "source": [
    "qr.name   # Mendapatkan nama register kuantum"
   ]
  },
  {
   "cell_type": "code",
   "execution_count": 5,
   "id": "b9b41813-d604-4528-ac0e-36c4b784a1bd",
   "metadata": {},
   "outputs": [
    {
     "data": {
      "text/plain": [
       "3"
      ]
     },
     "execution_count": 5,
     "metadata": {},
     "output_type": "execute_result"
    }
   ],
   "source": [
    "qr.size   # Mendapatkan jumlah kabel qubit dalam register kuantum"
   ]
  },
  {
   "cell_type": "code",
   "execution_count": 6,
   "id": "36a8a7b1-cbc5-40ee-ae60-a2dc73678494",
   "metadata": {},
   "outputs": [
    {
     "data": {
      "text/plain": [
       "'clasical bit'"
      ]
     },
     "execution_count": 6,
     "metadata": {},
     "output_type": "execute_result"
    }
   ],
   "source": [
    "cr.name   # Mendapatkan nama register klasik"
   ]
  },
  {
   "cell_type": "code",
   "execution_count": 7,
   "id": "edbaed00-eb07-4044-b4f3-7389092bc4fa",
   "metadata": {},
   "outputs": [
    {
     "data": {
      "text/plain": [
       "3"
      ]
     },
     "execution_count": 7,
     "metadata": {},
     "output_type": "execute_result"
    }
   ],
   "source": [
    "cr.size   # Mendapatkan jumlah kabel bit dalam register klasik"
   ]
  },
  {
   "cell_type": "code",
   "execution_count": 8,
   "id": "0d32188b-b2f4-4a5f-808f-47b24ad52373",
   "metadata": {},
   "outputs": [
    {
     "data": {
      "text/plain": [
       "10"
      ]
     },
     "execution_count": 8,
     "metadata": {},
     "output_type": "execute_result"
    }
   ],
   "source": [
    "qc.depth()  # Mendapatkan kedalaman rangkaian jika penghalang dihilangkan"
   ]
  },
  {
   "cell_type": "code",
   "execution_count": 9,
   "id": "8bac9a84-c09c-42c0-ba7f-0388e5d99cf0",
   "metadata": {},
   "outputs": [
    {
     "data": {
      "text/plain": [
       "16"
      ]
     },
     "execution_count": 9,
     "metadata": {},
     "output_type": "execute_result"
    }
   ],
   "source": [
    "qc.size()   # Mendapatkan jumlah total operasi gerbang dalam suatu sirkuit"
   ]
  },
  {
   "cell_type": "code",
   "execution_count": 10,
   "id": "27be5d6d-55cf-4768-bddf-58bd0c7fac7f",
   "metadata": {},
   "outputs": [
    {
     "data": {
      "text/plain": [
       "6"
      ]
     },
     "execution_count": 10,
     "metadata": {},
     "output_type": "execute_result"
    }
   ],
   "source": [
    "qc.width()  # Mendapatkan jumlah kabel qubit dan kabel klasik dalam suatu sirkuit"
   ]
  },
  {
   "cell_type": "code",
   "execution_count": 11,
   "id": "2015734c-1ad3-4757-abc2-94fe9e20e028",
   "metadata": {},
   "outputs": [
    {
     "data": {
      "text/plain": [
       "[Clbit(ClassicalRegister(3, 'clasical bit'), 0),\n",
       " Clbit(ClassicalRegister(3, 'clasical bit'), 1),\n",
       " Clbit(ClassicalRegister(3, 'clasical bit'), 2)]"
      ]
     },
     "execution_count": 11,
     "metadata": {},
     "output_type": "execute_result"
    }
   ],
   "source": [
    "qc.clbits   # Mendapatkan daftar bit klasik sesuai urutan penambahan register"
   ]
  },
  {
   "cell_type": "code",
   "execution_count": 12,
   "id": "6d6a835f-24fa-4366-9c2b-718b54a261dd",
   "metadata": {},
   "outputs": [
    {
     "data": {
      "text/plain": [
       "0.0"
      ]
     },
     "execution_count": 12,
     "metadata": {},
     "output_type": "execute_result"
    }
   ],
   "source": [
    "qc.global_phase # Mendapatkan fase global sirkuit dalam radian"
   ]
  },
  {
   "cell_type": "code",
   "execution_count": 13,
   "id": "7b63bd32-1e92-4984-add7-63a54eb4bb15",
   "metadata": {},
   "outputs": [
    {
     "data": {
      "text/plain": [
       "3"
      ]
     },
     "execution_count": 13,
     "metadata": {},
     "output_type": "execute_result"
    }
   ],
   "source": [
    "qc.num_clbits   # Mendapatkan jumlah kabel klasik di sirkuit"
   ]
  },
  {
   "cell_type": "code",
   "execution_count": 14,
   "id": "f81cd2fc-8491-4f82-864b-c4cb3d262938",
   "metadata": {},
   "outputs": [
    {
     "data": {
      "text/plain": [
       "3"
      ]
     },
     "execution_count": 14,
     "metadata": {},
     "output_type": "execute_result"
    }
   ],
   "source": [
    "qc.num_qubits   # Mendapatkan jumlah kabel kuantum di sirkuit"
   ]
  },
  {
   "cell_type": "code",
   "execution_count": 15,
   "id": "a4a087c7-de4c-44ea-9cbf-100e712121c9",
   "metadata": {},
   "outputs": [
    {
     "data": {
      "text/plain": [
       "[Qubit(QuantumRegister(3, 'qubit'), 0),\n",
       " Qubit(QuantumRegister(3, 'qubit'), 1),\n",
       " Qubit(QuantumRegister(3, 'qubit'), 2)]"
      ]
     },
     "execution_count": 15,
     "metadata": {},
     "output_type": "execute_result"
    }
   ],
   "source": [
    "qc.qubits       # Mendapatkan daftar bit kuantum sesuai urutan penambahan register"
   ]
  },
  {
   "cell_type": "code",
   "execution_count": 16,
   "id": "f4da607c-afc7-41ba-8645-f75c5229e0b2",
   "metadata": {},
   "outputs": [
    {
     "data": {
      "text/latex": [
       "$$\\frac{1}{2} |000\\rangle+\\frac{1}{2} |010\\rangle+\\frac{1}{2} |100\\rangle+\\frac{1}{2} |110\\rangle$$"
      ],
      "text/plain": [
       "<IPython.core.display.Latex object>"
      ]
     },
     "execution_count": 16,
     "metadata": {},
     "output_type": "execute_result"
    }
   ],
   "source": [
    "qc_baru = qc.copy()   # mengCopy QC\n",
    "# State Psi\n",
    "psi_2=Statevector(qc)\n",
    "psi_2.draw('latex')"
   ]
  },
  {
   "cell_type": "markdown",
   "id": "3b0c075d-1933-4c80-b07b-5a72a535137e",
   "metadata": {},
   "source": [
    "### 5. Menyimpan Sirkuit Kuantum ke Disk sebagai 'Nama_File.qpy'"
   ]
  },
  {
   "cell_type": "code",
   "execution_count": null,
   "id": "cd035bd9-fba4-4a9e-a8e7-b568dee5466e",
   "metadata": {},
   "outputs": [],
   "source": [
    "from qiskit import qpy\n",
    " \n",
    "with open('test.qpy', 'wb') as file:\n",
    "    qpy.dump(qc, file)"
   ]
  },
  {
   "cell_type": "markdown",
   "id": "18103282-29d9-42cc-b803-462958ed997e",
   "metadata": {},
   "source": [
    "### 6. Memanggil file qpy"
   ]
  },
  {
   "cell_type": "code",
   "execution_count": null,
   "id": "edbdb4e5-6de8-49ce-b587-f3d86635393e",
   "metadata": {},
   "outputs": [],
   "source": [
    "from qiskit import qpy\n",
    " \n",
    "with open('test.qpy', 'wb') as file:\n",
    "    qpy.dump(qc, file)\n",
    "\n",
    "qc.draw('mpl')"
   ]
  },
  {
   "cell_type": "code",
   "execution_count": null,
   "id": "0a706baf-a862-4b75-9491-67dd56b524a3",
   "metadata": {},
   "outputs": [],
   "source": []
  }
 ],
 "metadata": {
  "kernelspec": {
   "display_name": "Python 3 (ipykernel)",
   "language": "python",
   "name": "python3"
  },
  "language_info": {
   "codemirror_mode": {
    "name": "ipython",
    "version": 3
   },
   "file_extension": ".py",
   "mimetype": "text/x-python",
   "name": "python",
   "nbconvert_exporter": "python",
   "pygments_lexer": "ipython3",
   "version": "3.13.2"
  }
 },
 "nbformat": 4,
 "nbformat_minor": 5
}
